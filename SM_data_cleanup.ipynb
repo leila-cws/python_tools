{
 "cells": [
  {
   "cell_type": "markdown",
   "id": "336cb9ee-178b-434a-ba44-773af8d5b29a",
   "metadata": {},
   "source": [
    "## Tool for making Sample Manager outputs more user-friendly"
   ]
  },
  {
   "cell_type": "markdown",
   "id": "cd53cd11-d464-40ca-8778-a2ec7f17bb5a",
   "metadata": {},
   "source": [
    "### Leila Barker, October 2024"
   ]
  },
  {
   "cell_type": "markdown",
   "id": "023ac357-2c00-4d62-9314-c1d5b6ef79e5",
   "metadata": {},
   "source": [
    "#### Summary:\n",
    "* Save Sample Manager output file to this location (W:\\TD&R\\Python Tools\\Sample Manager data cleanup tool\\Tool inputs)\n",
    "    * Ensure that the file is saved as an Excel Workbook file (not an older version such as Excel 97-2003 Workbook)\n",
    "    * The tool will import the most recently modified file in this folder if there is more than one file\n",
    "* Run the following cells in order\n",
    "* The output file will be saved in the folder W:\\TD&R\\Python Tools\\Sample Manager data cleanup tool\\Tool inputs as \"SM_cleaned_today's date\""
   ]
  },
  {
   "cell_type": "markdown",
   "id": "5e4e2a8a-ddee-40a1-bb98-5cb6c940cc17",
   "metadata": {},
   "source": [
    "#### Step 1: Import data, delete unauthorized data, clean up DateTimes"
   ]
  },
  {
   "cell_type": "code",
   "execution_count": 93,
   "id": "c80921c7-ea65-470a-a9a3-f6591be32a95",
   "metadata": {},
   "outputs": [
    {
     "name": "stdout",
     "output_type": "stream",
     "text": [
      "Input file path: W:\\TD&R\\Python Tools\\Sample Manager data cleanup tool\\Tool inputs\\tmp884.xlsx\n",
      "Input file name: tmp884.xlsx\n"
     ]
    },
    {
     "data": {
      "text/html": [
       "<div>\n",
       "<style scoped>\n",
       "    .dataframe tbody tr th:only-of-type {\n",
       "        vertical-align: middle;\n",
       "    }\n",
       "\n",
       "    .dataframe tbody tr th {\n",
       "        vertical-align: top;\n",
       "    }\n",
       "\n",
       "    .dataframe thead th {\n",
       "        text-align: right;\n",
       "    }\n",
       "</style>\n",
       "<table border=\"1\" class=\"dataframe\">\n",
       "  <thead>\n",
       "    <tr style=\"text-align: right;\">\n",
       "      <th></th>\n",
       "      <th>Sample ID</th>\n",
       "      <th>Date</th>\n",
       "      <th>DateTime</th>\n",
       "      <th>Location</th>\n",
       "      <th>Sample Name</th>\n",
       "      <th>Collection Type</th>\n",
       "      <th>Analysis</th>\n",
       "      <th>Component</th>\n",
       "      <th>Qualifiers</th>\n",
       "      <th>Result</th>\n",
       "      <th>Units</th>\n",
       "      <th>Result Status</th>\n",
       "    </tr>\n",
       "  </thead>\n",
       "  <tbody>\n",
       "    <tr>\n",
       "      <th>0</th>\n",
       "      <td>290612</td>\n",
       "      <td>2021-07-06</td>\n",
       "      <td>2021-07-06 09:54:00</td>\n",
       "      <td>NTS Effluent</td>\n",
       "      <td>NaN</td>\n",
       "      <td>GR01</td>\n",
       "      <td>CHLOROPHYL</td>\n",
       "      <td>Chloroph-A-C (Report)</td>\n",
       "      <td>NaN</td>\n",
       "      <td>77.7</td>\n",
       "      <td>ppb_wt_v</td>\n",
       "      <td>Authorised</td>\n",
       "    </tr>\n",
       "    <tr>\n",
       "      <th>1</th>\n",
       "      <td>290612</td>\n",
       "      <td>2021-07-06</td>\n",
       "      <td>2021-07-06 09:54:00</td>\n",
       "      <td>NTS Effluent</td>\n",
       "      <td>NaN</td>\n",
       "      <td>GR01</td>\n",
       "      <td>CHLOROPHYL</td>\n",
       "      <td>Chloroph-A-U (Report)</td>\n",
       "      <td>NaN</td>\n",
       "      <td>98.0</td>\n",
       "      <td>ppb_wt_v</td>\n",
       "      <td>Authorised</td>\n",
       "    </tr>\n",
       "    <tr>\n",
       "      <th>2</th>\n",
       "      <td>290612</td>\n",
       "      <td>2021-07-06</td>\n",
       "      <td>2021-07-06 09:54:00</td>\n",
       "      <td>NTS Effluent</td>\n",
       "      <td>NaN</td>\n",
       "      <td>GR01</td>\n",
       "      <td>CHLOROPHYL</td>\n",
       "      <td>Pheoph-A (Report)</td>\n",
       "      <td>NaN</td>\n",
       "      <td>20.4</td>\n",
       "      <td>ppb_wt_v</td>\n",
       "      <td>Authorised</td>\n",
       "    </tr>\n",
       "    <tr>\n",
       "      <th>3</th>\n",
       "      <td>290612</td>\n",
       "      <td>2021-07-06</td>\n",
       "      <td>2021-07-06 09:54:00</td>\n",
       "      <td>NTS Effluent</td>\n",
       "      <td>NaN</td>\n",
       "      <td>GR01</td>\n",
       "      <td>HG-PT-T</td>\n",
       "      <td>Hg (Report)</td>\n",
       "      <td>NaN</td>\n",
       "      <td>1.55</td>\n",
       "      <td>ppt_wt_v</td>\n",
       "      <td>Authorised</td>\n",
       "    </tr>\n",
       "    <tr>\n",
       "      <th>4</th>\n",
       "      <td>290612</td>\n",
       "      <td>2021-07-06</td>\n",
       "      <td>2021-07-06 09:54:00</td>\n",
       "      <td>NTS Effluent</td>\n",
       "      <td>NaN</td>\n",
       "      <td>GR01</td>\n",
       "      <td>NPOC-S</td>\n",
       "      <td>NPOC (Report)</td>\n",
       "      <td>NaN</td>\n",
       "      <td>9.31</td>\n",
       "      <td>ppm_wt_v</td>\n",
       "      <td>Authorised</td>\n",
       "    </tr>\n",
       "  </tbody>\n",
       "</table>\n",
       "</div>"
      ],
      "text/plain": [
       "   Sample ID        Date            DateTime      Location Sample Name  \\\n",
       "0     290612  2021-07-06 2021-07-06 09:54:00  NTS Effluent         NaN   \n",
       "1     290612  2021-07-06 2021-07-06 09:54:00  NTS Effluent         NaN   \n",
       "2     290612  2021-07-06 2021-07-06 09:54:00  NTS Effluent         NaN   \n",
       "3     290612  2021-07-06 2021-07-06 09:54:00  NTS Effluent         NaN   \n",
       "4     290612  2021-07-06 2021-07-06 09:54:00  NTS Effluent         NaN   \n",
       "\n",
       "  Collection Type    Analysis              Component Qualifiers Result  \\\n",
       "0            GR01  CHLOROPHYL  Chloroph-A-C (Report)        NaN   77.7   \n",
       "1            GR01  CHLOROPHYL  Chloroph-A-U (Report)        NaN   98.0   \n",
       "2            GR01  CHLOROPHYL      Pheoph-A (Report)        NaN   20.4   \n",
       "3            GR01     HG-PT-T            Hg (Report)        NaN   1.55   \n",
       "4            GR01      NPOC-S          NPOC (Report)        NaN   9.31   \n",
       "\n",
       "      Units Result Status  \n",
       "0  ppb_wt_v    Authorised  \n",
       "1  ppb_wt_v    Authorised  \n",
       "2  ppb_wt_v    Authorised  \n",
       "3  ppt_wt_v    Authorised  \n",
       "4  ppm_wt_v    Authorised  "
      ]
     },
     "execution_count": 93,
     "metadata": {},
     "output_type": "execute_result"
    }
   ],
   "source": [
    "# Import the data from the most recent Excel file in the \"Tool inputs\" folder\n",
    "\n",
    "import os\n",
    "import pandas as pd\n",
    "from datetime import datetime\n",
    "\n",
    "folder_path = 'W:\\TD&R\\Python Tools\\Sample Manager data cleanup tool\\Tool inputs'\n",
    "\n",
    "files = [f for f in os.listdir(folder_path) if f.endswith('.xlsx') or f.endswith('.xls')]\n",
    "files_full_path = [os.path.join(folder_path, f) for f in files]\n",
    "\n",
    "# Find the latest file by modification time and load into a dataframe\n",
    "latest_file = max(files_full_path, key=os.path.getmtime)\n",
    "latest_file_name = os.path.basename(latest_file) # Name of the latest file\n",
    "\n",
    "# Load the latest file into a dataframe\n",
    "raw_df = pd.read_excel(latest_file)\n",
    "\n",
    "print(f\"Input file path: {latest_file}\")\n",
    "print(f\"Input file name: {latest_file_name}\")\n",
    "\n",
    "# Delete any data that does not have the status \"Authorised\"\n",
    "raw_df.drop(raw_df.columns[0], axis=1, inplace=True) # Deletes the first column (standard SM export -- not needed)\n",
    "raw_df = raw_df.loc[raw_df['Result Status'] == 'Authorised'] # Retains only data that has been authorised (has passed final QA/QC)\n",
    "\n",
    "# Convert datetimes to standard format; add a column for Date without time\n",
    "\n",
    "temp_df = pd.DataFrame()\n",
    "temp_df = raw_df\n",
    "temp_df['DateTime'] = pd.to_datetime(temp_df['Date'], errors='coerce', format='%m/%d/%Y %I:%M %p')\n",
    "temp_df['JustDate'] = pd.to_datetime(temp_df['DateTime']).dt.strftime('%Y-%m-%d')\n",
    "raw_df['Date'] = temp_df['JustDate']\n",
    "raw_df.drop(columns=raw_df.columns[-1], axis=1, inplace=True) # Delete the last column\n",
    "\n",
    "# Move DateTime next to Date\n",
    "columns = raw_df.columns.tolist()\n",
    "date_index = columns.index('Date')  # Get the index of the 'Date' column\n",
    "columns.remove('DateTime')\n",
    "columns.insert(date_index + 1, 'DateTime') # Insert 'DateTime' right after 'Date'\n",
    "raw_df = raw_df[columns] # Reorder the DataFrame based on the new column order\n",
    "\n",
    "raw_df.head()"
   ]
  },
  {
   "cell_type": "markdown",
   "id": "71687608-cba1-4fa2-98a1-f1df44ea2112",
   "metadata": {},
   "source": [
    "#### Step 2 (Optional): delete qualified data and/or select qualifiers (this is a placeholder for any modifications the user wants to make prior to exporting the data)"
   ]
  },
  {
   "cell_type": "code",
   "execution_count": 96,
   "id": "b203592f-1fc1-4309-b348-7b5acc58ea5f",
   "metadata": {},
   "outputs": [],
   "source": [
    "# Optional: delete qualified data (note: this deletes all data with something in the \"Qualifiers\" field;\n",
    "# if desired, can modify to just delete data with certain qualifiers [e.g., U])\n",
    "\n",
    "# We could also use this section to create a new field that indicates which parameters were flagged, and with what, prior to the creation of the final table.\n",
    "\n",
    "raw_df = raw_df[raw_df['Qualifiers'].isna()]"
   ]
  },
  {
   "cell_type": "markdown",
   "id": "bb928c1b-d8f7-4b31-a1d8-e804152d7f0b",
   "metadata": {},
   "source": [
    "#### Step 3: Create a pivot table with each row representing a single sample\n",
    "* Note: as is, the parameter headings are ugly. For example, orthophosphate is \"NH3OPO4-S o-PO4 (Report)\". It would be easy to clean them up by assigning more user-friendly names such as \"OPO4\"."
   ]
  },
  {
   "cell_type": "code",
   "execution_count": 99,
   "id": "8bc2d1f2-311f-46f3-8f33-5ed640f1bea8",
   "metadata": {},
   "outputs": [],
   "source": [
    "# Create a pivot table of the data and export to Excel\n",
    "\n",
    "pivot_df = raw_df.copy()\n",
    "\n",
    "# Create a new field, \"Parameter\", combining the \"Analysis\" and \"Component\" fields\n",
    "pivot_df['Parameter'] = pivot_df['Analysis'] + ' ' + pivot_df['Component']\n",
    "\n",
    "# Create a pivot table\n",
    "pivot_df = pivot_df.pivot_table(index=['Sample ID', 'Date', 'Location', 'DateTime', 'Collection Type'], columns = 'Parameter', values='Result', aggfunc='first').reset_index()\n",
    "\n"
   ]
  },
  {
   "cell_type": "markdown",
   "id": "236e334a-43ed-4f08-9b34-a1e7566d6abf",
   "metadata": {},
   "source": [
    "#### Step 4. Export the data as an Excel workbook"
   ]
  },
  {
   "cell_type": "code",
   "execution_count": 102,
   "id": "dbf9cb80-b8c9-4fff-8cd9-0330cfc3da08",
   "metadata": {},
   "outputs": [
    {
     "name": "stdout",
     "output_type": "stream",
     "text": [
      "File saved at: W:\\TD&R\\Python Tools\\Sample Manager data cleanup tool\\Tool outputs\\tmp884_2024-10-15.xlsx\n"
     ]
    }
   ],
   "source": [
    "# Get the current date in order to export the cleaned file with a timestamp\n",
    "current_year = datetime.now().year\n",
    "today = datetime.today().strftime('%Y-%m-%d')\n",
    "\n",
    "# Export the file\n",
    "output_directory = r'W:\\TD&R\\Python Tools\\Sample Manager data cleanup tool\\Tool outputs'\n",
    "latest_file_name_no_ext = os.path.splitext(latest_file_name)[0]\n",
    "filename = f'{latest_file_name_no_ext}_{today}.xlsx'\n",
    "output_filepath = os.path.join(output_directory, filename)\n",
    "pivot_df.to_excel(output_filepath)\n",
    "print(f'File saved at: {output_filepath}')"
   ]
  },
  {
   "cell_type": "code",
   "execution_count": null,
   "id": "f6435521-c61a-471a-ae9c-fe22dcc68992",
   "metadata": {},
   "outputs": [],
   "source": []
  }
 ],
 "metadata": {
  "kernelspec": {
   "display_name": "Python 3 (ipykernel)",
   "language": "python",
   "name": "python3"
  },
  "language_info": {
   "codemirror_mode": {
    "name": "ipython",
    "version": 3
   },
   "file_extension": ".py",
   "mimetype": "text/x-python",
   "name": "python",
   "nbconvert_exporter": "python",
   "pygments_lexer": "ipython3",
   "version": "3.9.19"
  }
 },
 "nbformat": 4,
 "nbformat_minor": 5
}
